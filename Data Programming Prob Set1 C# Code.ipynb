{
 "cells": [
  {
   "cell_type": "markdown",
   "id": "4c466835",
   "metadata": {},
   "source": [
    "Question 1 C# What data type is each of the following?"
   ]
  },
  {
   "cell_type": "code",
   "execution_count": null,
   "id": "060fd7ca",
   "metadata": {},
   "outputs": [],
   "source": [
    "5  Integer \n",
    "5.0  Float\n",
    "5 > 1  boolean \n",
    "'5' Character \n",
    "5 * 2 Integer \n",
    "'5' * 2 String\n",
    "'5' + '2' String\n",
    "5 / 2 Float\n",
    "5 % 2 Integer\n",
    "{5, 2, 1} Array\n",
    "5 == 3 Boolean\n",
    "Pi (the number) 3.14 = Float //  3.142857..... = Double"
   ]
  },
  {
   "cell_type": "markdown",
   "id": "26ef5701",
   "metadata": {},
   "source": [
    "Question 2 C# A) How many letters are there in 'Supercalifragilisticexpialidocious'?"
   ]
  },
  {
   "cell_type": "code",
   "execution_count": 1,
   "id": "764aa5de",
   "metadata": {},
   "outputs": [
    {
     "data": {
      "text/html": [
       "\r\n",
       "<div>\r\n",
       "    <div id='dotnet-interactive-this-cell-9524.Microsoft.DotNet.Interactive.Http.HttpPort' style='display: none'>\r\n",
       "        The below script needs to be able to find the current output cell; this is an easy method to get it.\r\n",
       "    </div>\r\n",
       "    <script type='text/javascript'>\r\n",
       "async function probeAddresses(probingAddresses) {\r\n",
       "    function timeout(ms, promise) {\r\n",
       "        return new Promise(function (resolve, reject) {\r\n",
       "            setTimeout(function () {\r\n",
       "                reject(new Error('timeout'))\r\n",
       "            }, ms)\r\n",
       "            promise.then(resolve, reject)\r\n",
       "        })\r\n",
       "    }\r\n",
       "\r\n",
       "    if (Array.isArray(probingAddresses)) {\r\n",
       "        for (let i = 0; i < probingAddresses.length; i++) {\r\n",
       "\r\n",
       "            let rootUrl = probingAddresses[i];\r\n",
       "\r\n",
       "            if (!rootUrl.endsWith('/')) {\r\n",
       "                rootUrl = `${rootUrl}/`;\r\n",
       "            }\r\n",
       "\r\n",
       "            try {\r\n",
       "                let response = await timeout(1000, fetch(`${rootUrl}discovery`, {\r\n",
       "                    method: 'POST',\r\n",
       "                    cache: 'no-cache',\r\n",
       "                    mode: 'cors',\r\n",
       "                    timeout: 1000,\r\n",
       "                    headers: {\r\n",
       "                        'Content-Type': 'text/plain'\r\n",
       "                    },\r\n",
       "                    body: probingAddresses[i]\r\n",
       "                }));\r\n",
       "\r\n",
       "                if (response.status == 200) {\r\n",
       "                    return rootUrl;\r\n",
       "                }\r\n",
       "            }\r\n",
       "            catch (e) { }\r\n",
       "        }\r\n",
       "    }\r\n",
       "}\r\n",
       "\r\n",
       "function loadDotnetInteractiveApi() {\r\n",
       "    probeAddresses([\"http://192.168.56.1:1000/\", \"http://192.168.1.13:1000/\", \"http://127.0.0.1:1000/\"])\r\n",
       "        .then((root) => {\r\n",
       "        // use probing to find host url and api resources\r\n",
       "        // load interactive helpers and language services\r\n",
       "        let dotnetInteractiveRequire = require.config({\r\n",
       "        context: '9524.Microsoft.DotNet.Interactive.Http.HttpPort',\r\n",
       "                paths:\r\n",
       "            {\r\n",
       "                'dotnet-interactive': `${root}resources`\r\n",
       "                }\r\n",
       "        }) || require;\r\n",
       "\r\n",
       "            window.dotnetInteractiveRequire = dotnetInteractiveRequire;\r\n",
       "\r\n",
       "            window.configureRequireFromExtension = function(extensionName, extensionCacheBuster) {\r\n",
       "                let paths = {};\r\n",
       "                paths[extensionName] = `${root}extensions/${extensionName}/resources/`;\r\n",
       "                \r\n",
       "                let internalRequire = require.config({\r\n",
       "                    context: extensionCacheBuster,\r\n",
       "                    paths: paths,\r\n",
       "                    urlArgs: `cacheBuster=${extensionCacheBuster}`\r\n",
       "                    }) || require;\r\n",
       "\r\n",
       "                return internalRequire\r\n",
       "            };\r\n",
       "        \r\n",
       "            dotnetInteractiveRequire([\r\n",
       "                    'dotnet-interactive/dotnet-interactive'\r\n",
       "                ],\r\n",
       "                function (dotnet) {\r\n",
       "                    dotnet.init(window);\r\n",
       "                },\r\n",
       "                function (error) {\r\n",
       "                    console.log(error);\r\n",
       "                }\r\n",
       "            );\r\n",
       "        })\r\n",
       "        .catch(error => {console.log(error);});\r\n",
       "    }\r\n",
       "\r\n",
       "// ensure `require` is available globally\r\n",
       "if ((typeof(require) !==  typeof(Function)) || (typeof(require.config) !== typeof(Function))) {\r\n",
       "    let require_script = document.createElement('script');\r\n",
       "    require_script.setAttribute('src', 'https://cdnjs.cloudflare.com/ajax/libs/require.js/2.3.6/require.min.js');\r\n",
       "    require_script.setAttribute('type', 'text/javascript');\r\n",
       "    \r\n",
       "    \r\n",
       "    require_script.onload = function() {\r\n",
       "        loadDotnetInteractiveApi();\r\n",
       "    };\r\n",
       "\r\n",
       "    document.getElementsByTagName('head')[0].appendChild(require_script);\r\n",
       "}\r\n",
       "else {\r\n",
       "    loadDotnetInteractiveApi();\r\n",
       "}\r\n",
       "\r\n",
       "    </script>\r\n",
       "</div>"
      ]
     },
     "metadata": {},
     "output_type": "display_data"
    },
    {
     "name": "stdout",
     "output_type": "stream",
     "text": [
      "the number of Letters in Supercalifragilisticexpialidocious is : 34\r\n"
     ]
    }
   ],
   "source": [
    "string yourWord = \"Supercalifragilisticexpialidocious\";\n",
    "        int numberOfLetters = yourWord.Length;\n",
    "\n",
    "        Console.WriteLine($\"the number of Letters in {yourWord} is : \" + numberOfLetters);"
   ]
  },
  {
   "cell_type": "markdown",
   "id": "891729ad",
   "metadata": {},
   "source": [
    "B) Does 'Supercalifragilisticexpialidocious' contain 'ice' as a substring?"
   ]
  },
  {
   "cell_type": "code",
   "execution_count": 3,
   "id": "e7e50102",
   "metadata": {},
   "outputs": [
    {
     "name": "stdout",
     "output_type": "stream",
     "text": [
      "Yes sub string ice is present in Supercalifragilisticexpialidocious \r\n"
     ]
    }
   ],
   "source": [
    "string mysubString= \"ice\";\n",
    "        string myString = \"Supercalifragilisticexpialidocious\";\n",
    "\n",
    "        int StringPosition = myString.IndexOf(mysubString);\n",
    "        if(StringPosition > 0)\n",
    "        {\n",
    "            Console.WriteLine($\"Yes sub string {mysubString} is present in {myString} \");\n",
    "        }\n",
    "        else { \n",
    "            Console.WriteLine($\"No sub string {mysubString} is present in {myString} \");}"
   ]
  },
  {
   "cell_type": "markdown",
   "id": "97cdfd4d",
   "metadata": {},
   "source": [
    "C) Which of the following words is the longest: Supercalifragilisticexpialidocious, Honorificabilitudinitatibus, or Bababadalgharaghtakamminarronnkonn?"
   ]
  },
  {
   "cell_type": "code",
   "execution_count": 4,
   "id": "cbd12968",
   "metadata": {},
   "outputs": [
    {
     "name": "stdout",
     "output_type": "stream",
     "text": [
      "Longest string:Supercalifragilisticexpialidocious \n",
      " Count of count of chrackter:34\r\n"
     ]
    }
   ],
   "source": [
    "string[] stringList = { \"Supercalifragilisticexpialidocious\", \"Honorificabilitudinitatibus\", \"Bababadalgharaghtakamminarronnkonn\"};\n",
    "        int max = 0, ni = 0;\n",
    "        int len;\n",
    "        len = stringList.Length;\n",
    "\n",
    "        for (int i = 0; i < len; i++)\n",
    "        {\n",
    "            if (stringList[i].Length > max)\n",
    "            {\n",
    "                max = stringList[i].Length;\n",
    "                ni = i;\n",
    "            }\n",
    "        }\n",
    "        Console.WriteLine(\"Longest string:{0} \\n Count of count of chrackter:{1}\", stringList[ni], max);"
   ]
  },
  {
   "cell_type": "markdown",
   "id": "fcd162ff",
   "metadata": {},
   "source": [
    "D) Which composer comes first in the dictionary: 'Berlioz', 'Borodin', 'Brian', 'Bartok', 'Bellini', 'Buxtehude', 'Bernstein'. Which one comes last?"
   ]
  },
  {
   "cell_type": "code",
   "execution_count": 5,
   "id": "93c5fea6",
   "metadata": {},
   "outputs": [
    {
     "name": "stdout",
     "output_type": "stream",
     "text": [
      "Bartok \n",
      "Bellini \n",
      "Berlioz \n",
      "Bernstein \n",
      "Borodin \n",
      "Brian \n",
      "Buxtehude \n"
     ]
    }
   ],
   "source": [
    "\n",
    "     {\n",
    "           SortedDictionary<string, string> names = new SortedDictionary<string, string>(); \n",
    "           names.Add(\"Berlioz\", \"\"); \n",
    "           names.Add(\"Borodin\", \"\");\n",
    "           names.Add(\"Brian\", \"\");\n",
    "           names.Add(\"Bartok\", \"\"); \n",
    "           names.Add(\"Bellini\", \"\");\n",
    "           names.Add(\"Buxtehude\", \"\"); \n",
    "           names.Add(\"Bernstein\", \"\"); \n",
    "           foreach (KeyValuePair<string, string> kv in names)\n",
    "           {\n",
    "                 Console.WriteLine(kv.Key + \" \" + kv.Value);\n",
    "           }\n",
    "     }\t\n",
    "\n"
   ]
  },
  {
   "cell_type": "markdown",
   "id": "5cb9410e",
   "metadata": {},
   "source": [
    "Question 2 Implement function triangleArea(a,b,c) that takes as input the lengths of the 3\n",
    "sides of a triangle and returns the area of the triangle. By Heron's formula, the area\n",
    "of a triangle with side lengths a, b, and c is\n",
    "s(s - a)(s -b)(s -c)\n",
    ", where\n",
    "s = (a+b+c)/2.\n",
    ">>> triangleArea(2,2,2)\n",
    "1.7320508075688772\n"
   ]
  },
  {
   "cell_type": "code",
   "execution_count": null,
   "id": "65703981",
   "metadata": {},
   "outputs": [],
   "source": [
    "\n",
    "Console.Write(\"Enter the length of side 1: \");\n",
    "double side1 = Convert.ToDouble(Console.ReadLine());\n",
    "Console.Write(\"Enter the length of side 2: \");\n",
    "double side2 = Convert.ToDouble(Console.ReadLine());\n",
    "Console.Write(\"Enter the length of side 3: \");\n",
    "double side3 = Convert.ToDouble(Console.ReadLine());\n",
    "\n",
    "double semiperimeter = (side1 + side2 + side3) / 2;\n",
    "double Area = Math.Sqrt(semiperimeter * (semiperimeter - side1) * (semiperimeter - side2) * (semiperimeter - side3));\n",
    "Console.Write(\"Area of a Triangle = \" + Area);\n",
    "\n"
   ]
  },
  {
   "cell_type": "markdown",
   "id": "43e056c8",
   "metadata": {},
   "source": [
    "Output: Enter the length of side 1: 2\n",
    "Enter the length of side 2: 2\n",
    "Enter the length of side 3: 2\n",
    "Area of a Triangle = 1.7320508075688772"
   ]
  },
  {
   "cell_type": "markdown",
   "id": "f91851bb",
   "metadata": {},
   "source": [
    "Question 4 Write a program in C# Sharp to separate odd and even integers in separate arrays. \n",
    "Go to the editor\n",
    "Test Data :\n",
    "Input the number of elements to be stored in the array :5\n",
    "Input 5 elements in the array :\n",
    "element - 0 : 25\n",
    "element - 1 : 47\n",
    "element - 2 : 42\n",
    "element - 3 : 56\n",
    "element - 4 : 32\n"
   ]
  },
  {
   "cell_type": "code",
   "execution_count": 12,
   "id": "d07325b6",
   "metadata": {},
   "outputs": [
    {
     "name": "stdout",
     "output_type": "stream",
     "text": [
      "Even elements are...\n",
      "42\n",
      "56\n",
      "32\n",
      "Odd elements are...\n",
      "25\n",
      "47\n"
     ]
    }
   ],
   "source": [
    "\n",
    "            int[] arr1 = new int[5];\n",
    "            arr1[0] = 25;\n",
    "            arr1[1] = 47;\n",
    "            arr1[2] = 42;\n",
    "            arr1[3] = 56;\n",
    "            arr1[4] = 32;\n",
    "            int[] arr2 = new int[5];\n",
    "            int[] arr3 = new int[5];\n",
    "            int i, j = 0, k = 0;\n",
    "            for (i = 0; i < 5; i++)\n",
    "            {\n",
    "                if (arr1[i] % 2 == 0)\n",
    "                {\n",
    "                    arr2[j] = arr1[i];\n",
    "                    j++;\n",
    "                }\n",
    "                else\n",
    "                {\n",
    "                    arr3[k] = arr1[i];\n",
    "                    k++;\n",
    "                }\n",
    "            }\n",
    "            Console.WriteLine(\"Even elements are...\");\n",
    "            for (i = 0; i < j; i++)\n",
    "            {\n",
    "                Console.WriteLine(arr2[i]);\n",
    "            }\n",
    "            Console.WriteLine(\"Odd elem ents are...\");\n",
    "            for (i = 0; i < k; i++)\n",
    "            {\n",
    "                Console.WriteLine(arr3[i]);\n",
    "            }\n",
    "     "
   ]
  },
  {
   "cell_type": "markdown",
   "id": "c3ea7d04",
   "metadata": {},
   "source": [
    "Question 5 C#\n",
    "a. Write a function inside(x,y,x1,y1,x2,y2) that returns True or False \n",
    "depending on whether the point (x,y) lies in the rectangle with lower left \n",
    "corner (x1,y1) and upper right corner (x2,y2).\n"
   ]
  },
  {
   "cell_type": "code",
   "execution_count": null,
   "id": "11662951",
   "metadata": {},
   "outputs": [],
   "source": [
    "using System;\n",
    "using System.Collections.Generic;\n",
    "\n",
    "class Demo\n",
    "{\n",
    "\n",
    "    static void inside(double x, double y, double x1, double y1, double x2,\n",
    "double y2)\n",
    "    {\n",
    "\n",
    "        if (x > x1 && x < x2 &&\n",
    "        y > y1 && y < y2)\n",
    "        {\n",
    "\n",
    "            Console.WriteLine(\"True\");\n",
    "        }\n",
    "        else\n",
    "        {\n",
    "            Console.WriteLine(\"False\");\n",
    "        }\n",
    "        \n",
    "    }\n",
    "\n",
    "    static void Main()\n",
    "    {\n",
    "        \n",
    "        Console.WriteLine(\"X :\");\n",
    "        double x = Convert.ToDouble(Console.ReadLine());\n",
    "        Console.WriteLine(\"Y : \");\n",
    "        double y = Convert.ToDouble(Console.ReadLine());\n",
    "        Console.WriteLine(\"X1 :\");\n",
    "        double x1 = Convert.ToDouble(Console.ReadLine());\n",
    "        Console.WriteLine(\"Y1 :\");\n",
    "        double y1 = Convert.ToDouble(Console.ReadLine());\n",
    "        Console.WriteLine(\"X2 : \");\n",
    "        double x2 = Convert.ToDouble(Console.ReadLine());\n",
    "        Console.WriteLine(\"Y2 : \");\n",
    "        double y2 = Convert.ToDouble(Console.ReadLine());\n",
    "\n",
    "      inside(x, y, x1, y1, x2, y2);\n",
    "\n",
    "        \n",
    "\n",
    "    }\n",
    "\n",
    "    \n",
    "}"
   ]
  },
  {
   "cell_type": "code",
   "execution_count": null,
   "id": "e8700d66",
   "metadata": {},
   "outputs": [],
   "source": [
    "X :1\n",
    "Y : 1\n",
    "X1 :0\n",
    "Y1 :0\n",
    "X2 : 2\n",
    "Y2 : 3\n",
    "True"
   ]
  },
  {
   "cell_type": "code",
   "execution_count": null,
   "id": "0f7165c7",
   "metadata": {},
   "outputs": [],
   "source": [
    "X :-1\n",
    "Y : -1\n",
    "X1 :0\n",
    "Y1 :0\n",
    "X2 : 2\n",
    "Y2 : 3\n",
    "False"
   ]
  },
  {
   "cell_type": "markdown",
   "id": "d82ac8b2",
   "metadata": {},
   "source": [
    "Question 5 C#\n",
    "b. Use function inside() from part a. to write an expression that tests whether \n",
    "the point (1,1) lies in both of the following rectangles: one with lower left \n",
    "corner (0.3, 0.5) and upper right corner (1.1, 0.7) and the other with lower \n",
    "left corner (0.5, 0.2) and upper right corner (1.1, 2)"
   ]
  },
  {
   "cell_type": "code",
   "execution_count": null,
   "id": "0e51a06c",
   "metadata": {},
   "outputs": [],
   "source": [
    "Output:\n",
    "X :1\n",
    "Y : 1\n",
    "X1 :0.3\n",
    "Y1 :0.5\n",
    "X2 : 1.1\n",
    "Y2 : 0.7\n",
    "False\n"
   ]
  },
  {
   "cell_type": "code",
   "execution_count": null,
   "id": "f28071d3",
   "metadata": {},
   "outputs": [],
   "source": [
    "Output:\n",
    "X :1\n",
    "Y : 1\n",
    "X1 :0.5\n",
    "Y1 :0.2\n",
    "X2 : 1.1\n",
    "Y2 : 2\n",
    "True"
   ]
  }
 ],
 "metadata": {
  "kernelspec": {
   "display_name": ".NET (C#)",
   "language": "C#",
   "name": ".net-csharp"
  },
  "language_info": {
   "file_extension": ".cs",
   "mimetype": "text/x-csharp",
   "name": "C#",
   "pygments_lexer": "csharp",
   "version": "9.0"
  }
 },
 "nbformat": 4,
 "nbformat_minor": 5
}
