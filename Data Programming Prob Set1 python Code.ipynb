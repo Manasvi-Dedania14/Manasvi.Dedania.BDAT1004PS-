{
 "cells": [
  {
   "cell_type": "markdown",
   "id": "a11c27b1",
   "metadata": {},
   "source": [
    "Question 6 Python\n",
    "You can turn a word into pig-Latin using the following two rules (simplified):\n",
    "• If the word starts with a consonant, move that letter to the end and append\n",
    "'ay'. For example, 'happy' becomes 'appyhay' and 'pencil' becomes 'encilpay'.\n",
    "• If the word starts with a vowel, simply append 'way' to the end of the word.\n",
    "For example, 'enter' becomes 'enterway' and 'other' becomes 'otherway' . For\n",
    "our purposes, there are 5 vowels: a, e, i, o, u (so we count y as a consonant).\n",
    "Write a function pig() that takes a word (i.e., a string) as input and returns its pigLatin form. Your function should still work if the input word contains upper case\n",
    "characters. Your output should always be lower case however. "
   ]
  },
  {
   "cell_type": "code",
   "execution_count": 1,
   "id": "ae6a6ce5",
   "metadata": {},
   "outputs": [
    {
     "name": "stdout",
     "output_type": "stream",
     "text": [
      "pig:-pencil\n",
      "encilpay\n"
     ]
    }
   ],
   "source": [
    "def pig(letter):\n",
    " if letter[0] in \"AEIOUaeiou\":\n",
    "    return letter + 'way'  \n",
    " else:\n",
    "   return letter[1:] + letter[0] + 'ay'\n",
    "letter = input(\"pig:-\")\n",
    "print(pig(letter).lower())\n",
    "\n"
   ]
  },
  {
   "cell_type": "markdown",
   "id": "e7f6a0af",
   "metadata": {},
   "source": [
    "Question 7 Python\n",
    "File bloodtype1.txt records blood-types of patients (A, B, AB, O or OO) at a clinic.\n",
    "Write a function bldcount() that reads the file with name name and reports (i.e.,\n",
    "prints) how many patients there are in each bloodtype.\n",
    ">>> bldcount('bloodtype.txt')\n",
    "There are 10 patients of blood type A.\n",
    "There is one patient of blood type B.\n",
    "There are 10 patients of blood type AB.\n",
    "There are 12 patients of blood type O.\n",
    "There are no patients of blood type OO.\n"
   ]
  },
  {
   "cell_type": "code",
   "execution_count": 3,
   "id": "8cb59bd8",
   "metadata": {},
   "outputs": [
    {
     "name": "stdout",
     "output_type": "stream",
     "text": [
      "There are 15 patients of blood type A.\n",
      "There is one patient of blood type B.\n",
      "There are 13 patients of blood type AB.\n",
      "There are 15 patients of blood type O.\n",
      "There are no patients of blood type OO.\n"
     ]
    }
   ],
   "source": [
    "def bldcount():\n",
    "    infile = open('C:/Users/Manasvi/Downloads/bloodtype1.txt','r')\n",
    "    data=infile.read()\n",
    "    finalData=data.split()\n",
    "    bloodCountA(finalData.count(\"A\"))          \n",
    "    bloodCountB(finalData.count(\"B\"))          \n",
    "    bloodCountAB(finalData.count(\"AB\"))\n",
    "    bloodCountO(finalData.count(\"O\"))\n",
    "    bloodCountOO(finalData.count(\"OO\"))\n",
    "    infile.close()\n",
    "def bloodCountA(countA):\n",
    "         if(countA==0):\n",
    "            print('There are no patients of blood type A.')\n",
    "         elif(countA==1):\n",
    "            print(\"There is one patient of blood type A.\")\n",
    "         else:\n",
    "            print(\"There are \" + str(countA) + \" patients of blood type A.\")\n",
    "def bloodCountB(countB):\n",
    "         if(countB==0):\n",
    "            print('There are no patients of blood type B.')\n",
    "         elif(countB==1):\n",
    "            print(\"There is one patient of blood type B.\")\n",
    "         else:\n",
    "            print(\"There are \" + str(countB) + \" patients of blood type B.\")\n",
    "def bloodCountAB(countAB):\n",
    "         if(countAB==0):\n",
    "            print('There are no patients of blood type AB.')\n",
    "         elif(countAB==1):\n",
    "            print(\"There is one patient of blood type AB.\")\n",
    "         else:\n",
    "            print(\"There are \" + str(countAB) + \" patients of blood type AB.\")\n",
    "def bloodCountO(countO):\n",
    "         if(countO==0):\n",
    "            print('There are no patients of blood type O.')\n",
    "         elif(countO==1):\n",
    "            print(\"There is one patient of blood type O.\")\n",
    "         else:\n",
    "            print(\"There are \" + str(countO) + \" patients of blood type O.\")\n",
    "def bloodCountOO(countOO):\n",
    "         if(countOO==0):\n",
    "            print('There are no patients of blood type OO.')\n",
    "         elif(countOO==1):\n",
    "            print(\"There is one patient of blood type OO.\")\n",
    "         else:\n",
    "            print(\"There are \" + str(countOO) + \" patients of blood type OO.\")\n",
    "            \n",
    "            \n",
    "bldcount()"
   ]
  },
  {
   "cell_type": "markdown",
   "id": "605f739e",
   "metadata": {},
   "source": [
    "Question 8 Python\n",
    "Write a function curconv() that takes as input:\n",
    "1. a currency represented using a string (e.g., 'JPY' for the Japanese Yen or\n",
    "'EUR' for the Euro)\n",
    "2. an amount\n",
    "and then converts and returns the amount in US dollars"
   ]
  },
  {
   "cell_type": "code",
   "execution_count": 1,
   "id": "ed0f97a2",
   "metadata": {
    "scrolled": false
   },
   "outputs": [
    {
     "name": "stdout",
     "output_type": "stream",
     "text": [
      "Enter the currency :EUR\n",
      "Enter the amount :100\n",
      "Your converted currency in US dollars from EUR : 122.96544\n"
     ]
    }
   ],
   "source": [
    "currencyEUR= input('Enter the currency :')    \n",
    "conv = input('Enter the amount :')    \n",
    "def curconv(curr,conv):             \n",
    "    infile=open('C:/Users/Manasvi/Downloads/currencies.txt')\n",
    "    data= infile.read()\n",
    "    finalData=data.split()        \n",
    "  \n",
    "    #print(finalData)\n",
    "    infile.close()\n",
    "    if(curr in finalData):\n",
    "        position = finalData.index(curr) + 1       \n",
    "        conv = float(finalData[position]) * float(conv)   \n",
    "        print('Your converted currency in US dollars from ' + curr + ' : ' + str(conv))\n",
    "        \n",
    "curconv(currencyEUR.upper(),conv) \n"
   ]
  },
  {
   "cell_type": "markdown",
   "id": "689f8967",
   "metadata": {},
   "source": [
    "Question 9 Python\n",
    "Each of the following will cause an exception (an error). Identify what type of\n",
    "exception each will cause."
   ]
  },
  {
   "cell_type": "code",
   "execution_count": null,
   "id": "7442dfee",
   "metadata": {},
   "outputs": [],
   "source": [
    "Trying to add incompatible variables, as in adding 6 + ‘a’\n",
    "\n",
    "=> TypeError\n",
    "\n",
    "Referring to the 12th item of a list that has only 10 items\n",
    "\n",
    "=> IndexError\n",
    "\n",
    "Using a value that is out of range for a function’s input, such as calling math.sqrt(-1.0)\n",
    "\n",
    "=> ValueError\n",
    "\n",
    "Using an undeclared variable, such as print(x) when x has not been defined\n",
    "\n",
    "=> NameError\n",
    "\n",
    "Trying to open a file that does not exist, such as mistyping the file name or looking in the wrong directory\n",
    "\n",
    "=> FileNotFoundError"
   ]
  },
  {
   "cell_type": "code",
   "execution_count": null,
   "id": "685e2178",
   "metadata": {},
   "outputs": [],
   "source": [
    "Question 10 Python\n",
    "Encryption is the process of hiding the meaning of a text by substituting letters in the\n",
    "message with other letters, according to some system. If the process is successful, no\n",
    "one but the intended recipient can understand the encrypted message. Cryptanalysis\n",
    "refers to attempts to undo the encryption, even if some details of the encryption are\n",
    "unknown (for example, if an encrypted message has been intercepted). The first step\n",
    "of cryptanalysis is often to build up a table of letter frequencies in the encrypted text.\n",
    "Assume that the string letters is already defined as\n",
    "'abcdefghijklmnopqrstuvwxyz'. Write a function called frequencies()\n",
    "that takes a string as its only parameter, and returns a list of integers, showing the\n",
    "number of times each character appears in the text. Your function may ignore any\n",
    "characters that are not in letters. "
   ]
  },
  {
   "cell_type": "code",
   "execution_count": 21,
   "id": "03e5d18f",
   "metadata": {},
   "outputs": [
    {
     "name": "stdout",
     "output_type": "stream",
     "text": [
      "Enter your String:-apple\n",
      "[1, 0, 0, 0, 1, 0, 0, 0, 0, 0, 0, 1, 0, 0, 0, 2, 0, 0, 0, 0, 0, 0, 0, 0, 0, 0]\n",
      "\n",
      "\n"
     ]
    }
   ],
   "source": [
    "def frequencies(sentence):\n",
    "    list=['a','b','c','d','e','f','g','h','i','j','k','l','m','n','o','p','q','r','s','t','u','v','w','x','y','z']\n",
    "    inputWord= sentence\n",
    "    output = []\n",
    "    Length_lst=len(list)     # couting length of a list\n",
    "    for i in range(0,Length_lst): \n",
    "        # range has been set till the lenth of a list\n",
    "        print(list[2])\n",
    "        data= inputWord.count(list[i])   # couning each occurance of a letter from a sentence on the basis of a list\n",
    "        #lst1 = str(data)\n",
    "        output.append(data)\n",
    "        #print(lst1,end= \",\" )\n",
    "    print(output)    \n",
    "    \n",
    "string_from_user = input('Enter your String:-')    \n",
    "frequencies(string_from_user)\n",
    "print(\"\\n\")\n",
    "#frequencies('apple')"
   ]
  }
 ],
 "metadata": {
  "kernelspec": {
   "display_name": "Python 3 (ipykernel)",
   "language": "python",
   "name": "python3"
  },
  "language_info": {
   "codemirror_mode": {
    "name": "ipython",
    "version": 3
   },
   "file_extension": ".py",
   "mimetype": "text/x-python",
   "name": "python",
   "nbconvert_exporter": "python",
   "pygments_lexer": "ipython3",
   "version": "3.9.7"
  }
 },
 "nbformat": 4,
 "nbformat_minor": 5
}
